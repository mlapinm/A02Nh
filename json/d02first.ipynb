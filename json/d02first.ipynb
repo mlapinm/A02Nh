#@title Текст заголовка по умолчанию
import ipywidgets as widgets
from IPython.display import display
import matplotlib.pyplot as plt
import numpy as np

# %matplotlib nbagg


x = np.linspace(0, 2, 1000)
fig, ax = plt.subplots(1, figsize=(10, 4))
plt.suptitle('Sine Wave')

amp = widgets.FloatSlider(min = 1, max=10, value=4, description='Amp:')
display(amp)

