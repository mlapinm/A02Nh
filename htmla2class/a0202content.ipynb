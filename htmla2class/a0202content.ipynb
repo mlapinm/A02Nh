{
 "cells": [
  {
   "cell_type": "code",
   "execution_count": 72,
   "metadata": {},
   "outputs": [],
   "source": [
    "import os\n",
    "import re\n",
    "\n",
    "def mMd(s):\n",
    "    '''\n",
    "    a*class.md => True\n",
    "    '''\n",
    "    match = re.search(r'^a\\w*class.md$', s)\n",
    "    return True if match else False\n",
    "\n",
    "def listPreview(listList):\n",
    "    listFiles = list(filter(mMd, os.listdir()))\n",
    "#     listFiles = listFiles[:3]\n",
    "\n",
    "    for i,v in enumerate(listFiles):\n",
    "#         print(i,v)\n",
    "        listList.append([])\n",
    "        with open(v, encoding=\"utf8\") as file:\n",
    "            for j,s in enumerate(file):\n",
    "                if j<5 and len(s.strip())>0:\n",
    "                    listList[i].append(s.strip())\n",
    "        listList[i].append('=== === ==')\n",
    "#                 print(i,s)\n",
    "        \n",
    "#     print(len(listFiles))\n",
    "#     print(listList)\n",
    "\n",
    "def writeFile(listList, name):\n",
    "    list = []\n",
    "    for v in listList:\n",
    "        s = '\\n'.join(v)\n",
    "        list.append(s)\n",
    "#     print(list)\n",
    "    with open(name, \"w\", encoding = \"utf8\") as file:\n",
    "        file.write('\\n'.join(list))\n",
    "#         file.writelines(list(map(lambda x: x + '\\n', l)))\n",
    "    \n",
    "    \n",
    "listList = []    \n",
    "listPreview(listList)\n",
    "writeFile(listList, 'rm02.txt')\n",
    "\n"
   ]
  },
  {
   "cell_type": "markdown",
   "metadata": {},
   "source": []
  },
  {
   "cell_type": "code",
   "execution_count": 17,
   "metadata": {},
   "outputs": [
    {
     "name": "stdout",
     "output_type": "stream",
     "text": [
      "[English Topics - How to Start a Conversation](https://www.youtube.com/watch?v=IbqPgHka_Y4)\n",
      "[English Topics - Things to Avoid Saying When Meeting Someone for the First Time](https://www.youtube.com/watch?v=Nh0aq_zMWx0)\n",
      "[Learn the Top 8 Words Americans Overuse](https://www.youtube.com/watch?v=qJ_-VsHI6U4)\n",
      "[Present Perfect vs Simple Past Tense! Differences? Ask Alisha](https://www.youtube.com/watch?v=zcf9VQbichE)\n",
      "[Negative Prefixes - Learn English Grammar](https://www.youtube.com/watch?v=XOjnF9dq6jA)\n"
     ]
    }
   ],
   "source": [
    "import re\n",
    "s = '''\n",
    "[https://www.youtube.com/watch?v=IbqPgHka_Y4](English Topics - How to Start a Conversation)\n",
    "[https://www.youtube.com/watch?v=Nh0aq_zMWx0](English Topics - Things to Avoid Saying When Meeting Someone for the First Time)\n",
    "[https://www.youtube.com/watch?v=qJ_-VsHI6U4](Learn the Top 8 Words Americans Overuse)\n",
    "[https://www.youtube.com/watch?v=zcf9VQbichE](Present Perfect vs Simple Past Tense! Differences? Ask Alisha)\n",
    "[https://www.youtube.com/watch?v=XOjnF9dq6jA](Negative Prefixes - Learn English Grammar)\n",
    "'''\n",
    "s1 = '''\n",
    "[2](1)\n",
    "'''\n",
    "def mChange(s):\n",
    "    match = re.search(r'\\[(.+)\\]',s)\n",
    "    a = match[1] if match else ''\n",
    "    match = re.search(r'\\((.+)\\)',s)\n",
    "    b = match[1] if match else ''\n",
    "    s2 = f'[{b}]({a})'\n",
    "    s2 = s2.strip()\n",
    "    return s2\n",
    "\n",
    "def mFoo(s):\n",
    "    list2 = list(filter(lambda x: len(x)>0, s.split('\\n')))\n",
    "    for v in list2:\n",
    "        print(mChange(v))\n",
    "# l = \n",
    "s2 = mFoo(s)\n",
    "# print(s2)\n",
    "# print(a,b)"
   ]
  },
  {
   "cell_type": "markdown",
   "metadata": {},
   "source": [
    "[book.pythontips.com](https://book.pythontips.com/en/latest/map_filter.html)"
   ]
  }
 ],
 "metadata": {
  "kernelspec": {
   "display_name": "Python 3",
   "language": "python",
   "name": "python3"
  },
  "language_info": {
   "codemirror_mode": {
    "name": "ipython",
    "version": 3
   },
   "file_extension": ".py",
   "mimetype": "text/x-python",
   "name": "python",
   "nbconvert_exporter": "python",
   "pygments_lexer": "ipython3",
   "version": "3.7.8"
  }
 },
 "nbformat": 4,
 "nbformat_minor": 4
}
