{
 "cells": [
  {
   "cell_type": "code",
   "execution_count": 72,
   "metadata": {},
   "outputs": [],
   "source": [
    "import os\n",
    "import re\n",
    "\n",
    "def mMd(s):\n",
    "    '''\n",
    "    a*class.md => True\n",
    "    '''\n",
    "    match = re.search(r'^a\\w*class.md$', s)\n",
    "    return True if match else False\n",
    "\n",
    "def listPreview(listList):\n",
    "    listFiles = list(filter(mMd, os.listdir()))\n",
    "#     listFiles = listFiles[:3]\n",
    "\n",
    "    for i,v in enumerate(listFiles):\n",
    "#         print(i,v)\n",
    "        listList.append([])\n",
    "        with open(v, encoding=\"utf8\") as file:\n",
    "            for j,s in enumerate(file):\n",
    "                if j<5 and len(s.strip())>0:\n",
    "                    listList[i].append(s.strip())\n",
    "        listList[i].append('=== === ==')\n",
    "#                 print(i,s)\n",
    "        \n",
    "#     print(len(listFiles))\n",
    "#     print(listList)\n",
    "\n",
    "def writeFile(listList, name):\n",
    "    list = []\n",
    "    for v in listList:\n",
    "        s = '\\n'.join(v)\n",
    "        list.append(s)\n",
    "#     print(list)\n",
    "    with open(name, \"w\", encoding = \"utf8\") as file:\n",
    "        file.write('\\n'.join(list))\n",
    "#         file.writelines(list(map(lambda x: x + '\\n', l)))\n",
    "    \n",
    "    \n",
    "listList = []    \n",
    "listPreview(listList)\n",
    "writeFile(listList, 'rm02.txt')\n",
    "\n"
   ]
  },
  {
   "cell_type": "code",
   "execution_count": 37,
   "metadata": {},
   "outputs": [
    {
     "data": {
      "text/plain": [
       "False"
      ]
     },
     "execution_count": 37,
     "metadata": {},
     "output_type": "execute_result"
    }
   ],
   "source": [
    "import re\n",
    "\n",
    "def mMd(s):\n",
    "    match = re.search(r'^a\\w*class.md$', s)\n",
    "    return True if match else False\n",
    "\n",
    "\n",
    "s = 'a0229class.md'\n",
    "# print(s, s[-8:])\n",
    "\n",
    "mMd(s)"
   ]
  },
  {
   "cell_type": "code",
   "execution_count": 21,
   "metadata": {},
   "outputs": [
    {
     "name": "stdout",
     "output_type": "stream",
     "text": [
      "[0, 1, 2, 3, 4] [0, 1, 2]\n"
     ]
    }
   ],
   "source": [
    "def mMin(x):\n",
    "    return x<3\n",
    "\n",
    "l = [i for i in range(5)]\n",
    "l2 = list(filter(mMin, l))\n",
    "print(l, l2)"
   ]
  },
  {
   "cell_type": "markdown",
   "metadata": {},
   "source": []
  },
  {
   "cell_type": "code",
   "execution_count": 78,
   "metadata": {},
   "outputs": [
    {
     "name": "stdout",
     "output_type": "stream",
     "text": [
      "1\n"
     ]
    }
   ],
   "source": [
    "import re\n",
    "\n",
    "s = '[1](2)'\n",
    "\n",
    "match = re.search(r'\\[(\\w+)\\]',s)\n",
    "a = match[1] if match else ''\n",
    "match = re.search(r'\\[(\\w+)\\]',s)\n",
    "b = match[1] if match else ''\n",
    "print(a,b)"
   ]
  },
  {
   "cell_type": "markdown",
   "metadata": {},
   "source": [
    "[book.pythontips.com](https://book.pythontips.com/en/latest/map_filter.html)"
   ]
  }
 ],
 "metadata": {
  "kernelspec": {
   "display_name": "Python 3",
   "language": "python",
   "name": "python3"
  },
  "language_info": {
   "codemirror_mode": {
    "name": "ipython",
    "version": 3
   },
   "file_extension": ".py",
   "mimetype": "text/x-python",
   "name": "python",
   "nbconvert_exporter": "python",
   "pygments_lexer": "ipython3",
   "version": "3.7.8"
  }
 },
 "nbformat": 4,
 "nbformat_minor": 4
}
