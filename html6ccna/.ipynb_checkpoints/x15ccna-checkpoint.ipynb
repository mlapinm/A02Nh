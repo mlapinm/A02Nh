{
 "cells": [
  {
   "cell_type": "markdown",
   "metadata": {},
   "source": [
    "## CCNA 200-301 VOLUME 1 translate\n",
    "[](#)  \n",
    "[general](#general)  \n",
    "[page list](#page-list)  \n",
    "[tests](#tests)  \n",
    "[](#)  \n",
    "[](#)  \n",
    "[](#)  \n",
    "[](#)  \n"
   ]
  },
  {
   "cell_type": "markdown",
   "metadata": {},
   "source": []
  },
  {
   "cell_type": "markdown",
   "metadata": {},
   "source": [
    "## general"
   ]
  },
  {
   "cell_type": "code",
   "execution_count": 41,
   "metadata": {},
   "outputs": [
    {
     "name": "stdout",
     "output_type": "stream",
     "text": [
      "Это ручка.\n",
      "['hello', 'world']\n",
      "['hello|Здравствуйте', 'world|Мир']\n"
     ]
    }
   ],
   "source": [
    "from googletrans import Translator, constants\n",
    "from pprint import pprint\n",
    "# init the Google API translator\n",
    "translator = Translator()\n",
    "\n",
    "def translate(text):\n",
    "    translation = translator.translate(text, src=\"en\", dest=\"ru\")\n",
    "#     print(f\"{translation.origin} ({translation.src}) --> {translation.text} ({translation.dest})\")    return translation\n",
    "    return translation.text\n",
    "\n",
    "text = \"This is a pen.\"    \n",
    "translation = translate(text)   \n",
    "print(translation)\n",
    "\n",
    "def mReadFile(nameFile):\n",
    "    s = ''\n",
    "    with open(nameFile, encoding=\"utf8\") as file:\n",
    "        s = file.read()\n",
    "    return s\n",
    "\n",
    "def mWriteFile(nameFile, s):\n",
    "    with open(nameFile, 'w', encoding=\"utf8\") as file:\n",
    "        file.write(s)\n",
    "    return s\n",
    "\n",
    "def translateListSmall(lien):\n",
    "    sen = '\\n'.join(lien)\n",
    "    sru = translate(sen)\n",
    "    liru = sru.split('\\n')\n",
    "    lienru = []\n",
    "    for i in range(len(liru)):\n",
    "        lienru.append(f'{lien[i]}|{liru[i]}')\n",
    "    return lienru\n",
    "\n",
    "def mList(s, l):\n",
    "    '''\n",
    "    s1\\ns2 => [s1, s2]\n",
    "    '''\n",
    "    l2 = s.split('\\n')\n",
    "    l2 = list(map(lambda x: x.strip(), l2))\n",
    "    for e in l2:\n",
    "        l.append(e)\n",
    "    pass\n",
    "\n",
    "\n",
    "l = ['hello' , 'world']\n",
    "l2 = translateListSmall(l)\n",
    "print(l)\n",
    "print(l2)\n"
   ]
  },
  {
   "cell_type": "markdown",
   "metadata": {},
   "source": [
    "## page list\n",
    "```\n",
    "[1](#1)\n",
    "[2](#2)\n",
    "[3](#3)\n",
    "## 1\n",
    "--|--\n",
    "## 2\n",
    "--|--\n",
    "## 3\n",
    "--|--\n",
    "```"
   ]
  },
  {
   "cell_type": "code",
   "execution_count": 58,
   "metadata": {},
   "outputs": [
    {
     "ename": "FileNotFoundError",
     "evalue": "[Errno 2] No such file or directory: 'x14a.txt'",
     "output_type": "error",
     "traceback": [
      "\u001b[1;31m---------------------------------------------------------------------------\u001b[0m",
      "\u001b[1;31mFileNotFoundError\u001b[0m                         Traceback (most recent call last)",
      "\u001b[1;32m<ipython-input-58-8e144339360d>\u001b[0m in \u001b[0;36m<module>\u001b[1;34m\u001b[0m\n\u001b[0;32m      1\u001b[0m \u001b[1;32mimport\u001b[0m \u001b[0mre\u001b[0m\u001b[1;33m\u001b[0m\u001b[1;33m\u001b[0m\u001b[0m\n\u001b[0;32m      2\u001b[0m \u001b[1;33m\u001b[0m\u001b[0m\n\u001b[1;32m----> 3\u001b[1;33m \u001b[0ms\u001b[0m \u001b[1;33m=\u001b[0m \u001b[0mmReadFile\u001b[0m\u001b[1;33m(\u001b[0m\u001b[1;34m\"x14a.txt\"\u001b[0m\u001b[1;33m)\u001b[0m\u001b[1;33m\u001b[0m\u001b[1;33m\u001b[0m\u001b[0m\n\u001b[0m\u001b[0;32m      4\u001b[0m \u001b[1;33m\u001b[0m\u001b[0m\n\u001b[0;32m      5\u001b[0m \u001b[0ml\u001b[0m \u001b[1;33m=\u001b[0m \u001b[0ms\u001b[0m\u001b[1;33m.\u001b[0m\u001b[0msplit\u001b[0m\u001b[1;33m(\u001b[0m\u001b[1;34m'\\n'\u001b[0m\u001b[1;33m)\u001b[0m\u001b[1;33m\u001b[0m\u001b[1;33m\u001b[0m\u001b[0m\n",
      "\u001b[1;32m<ipython-input-41-60d1bc77f625>\u001b[0m in \u001b[0;36mmReadFile\u001b[1;34m(nameFile)\u001b[0m\n\u001b[0;32m     15\u001b[0m \u001b[1;32mdef\u001b[0m \u001b[0mmReadFile\u001b[0m\u001b[1;33m(\u001b[0m\u001b[0mnameFile\u001b[0m\u001b[1;33m)\u001b[0m\u001b[1;33m:\u001b[0m\u001b[1;33m\u001b[0m\u001b[1;33m\u001b[0m\u001b[0m\n\u001b[0;32m     16\u001b[0m     \u001b[0ms\u001b[0m \u001b[1;33m=\u001b[0m \u001b[1;34m''\u001b[0m\u001b[1;33m\u001b[0m\u001b[1;33m\u001b[0m\u001b[0m\n\u001b[1;32m---> 17\u001b[1;33m     \u001b[1;32mwith\u001b[0m \u001b[0mopen\u001b[0m\u001b[1;33m(\u001b[0m\u001b[0mnameFile\u001b[0m\u001b[1;33m,\u001b[0m \u001b[0mencoding\u001b[0m\u001b[1;33m=\u001b[0m\u001b[1;34m\"utf8\"\u001b[0m\u001b[1;33m)\u001b[0m \u001b[1;32mas\u001b[0m \u001b[0mfile\u001b[0m\u001b[1;33m:\u001b[0m\u001b[1;33m\u001b[0m\u001b[1;33m\u001b[0m\u001b[0m\n\u001b[0m\u001b[0;32m     18\u001b[0m         \u001b[0ms\u001b[0m \u001b[1;33m=\u001b[0m \u001b[0mfile\u001b[0m\u001b[1;33m.\u001b[0m\u001b[0mread\u001b[0m\u001b[1;33m(\u001b[0m\u001b[1;33m)\u001b[0m\u001b[1;33m\u001b[0m\u001b[1;33m\u001b[0m\u001b[0m\n\u001b[0;32m     19\u001b[0m     \u001b[1;32mreturn\u001b[0m \u001b[0ms\u001b[0m\u001b[1;33m\u001b[0m\u001b[1;33m\u001b[0m\u001b[0m\n",
      "\u001b[1;31mFileNotFoundError\u001b[0m: [Errno 2] No such file or directory: 'x14a.txt'"
     ]
    }
   ],
   "source": [
    "import re\n",
    "\n",
    "s = mReadFile(\"x14a.txt\")\n",
    "\n",
    "l = s.split('\\n')\n",
    "l = list(filter(lambda x: len(x.strip())>0, l))\n",
    "l.append('11')\n",
    "lout = ['(', ')', \"'\", ',']\n",
    "lnav = []\n",
    "for e in l:\n",
    "    match = re.search('^##?', e)\n",
    "    e2 = ''\n",
    "    e4 = ''\n",
    "    e12 = ''\n",
    "    if match:\n",
    "        e2 = re.sub('^##?','',e)\n",
    "        e2 = e2.strip()\n",
    "        e4 = re.sub(' ','-',e2)\n",
    "        for r in lout:\n",
    "            e4 = e4.replace(r, '')\n",
    "        e12 = f'[{e2}](#{e4})   '\n",
    "        e12 = '1. ' + e12\n",
    "        lnav.append(e12)\n",
    "#         print(e12)\n",
    "\n",
    "# l = lnav + l\n",
    "\n",
    "ltab = []\n",
    "lall = []\n",
    "k = 0\n",
    "for e in l:\n",
    "    match1 = re.search('\\[.*\\]\\(.*\\)', e)\n",
    "    match2 = re.search('^##?', e)\n",
    "    if match1 or match2 or k == len(l)-1:\n",
    "        if len(ltab)!=0:\n",
    "            ltab = translateListSmall(ltab)\n",
    "            ltab2 = []\n",
    "            ltab2.append('  ')\n",
    "#             ltab2.append('  ')\n",
    "            ltab2.append('__|__')\n",
    "            ltab2.append('--|--')\n",
    "#             print(e)\n",
    "            lall += ltab2 + ltab\n",
    "            lall.append('   ')\n",
    "            ltab = []\n",
    "        if k != len(l)-1:\n",
    "            lall.append(e)\n",
    "    else:\n",
    "#         e2 = translate(e)\n",
    "#         ltab.append(f'{e}|{e2}')\n",
    "        ltab.append(e)\n",
    "        \n",
    "    k+=1    \n",
    "\n",
    "lnav.append('   ')    \n",
    "lall = lnav + lall \n",
    "\n",
    "for e in lall:\n",
    "#     print(e)\n",
    "    pass\n",
    "s2 = '\\n'.join(lall)\n",
    "# print(s2)\n",
    "mWriteFile(\"x14b.txt\", s2)\n",
    "print(len(l), len(lall))"
   ]
  },
  {
   "cell_type": "markdown",
   "metadata": {},
   "source": [
    "<hr>"
   ]
  },
  {
   "cell_type": "markdown",
   "metadata": {},
   "source": [
    "## tests\n",
    "## test1"
   ]
  },
  {
   "cell_type": "code",
   "execution_count": 72,
   "metadata": {},
   "outputs": [
    {
     "data": {
      "text/plain": [
       "'s22'"
      ]
     },
     "execution_count": 72,
     "metadata": {},
     "output_type": "execute_result"
    }
   ],
   "source": [
    "def mFromPdf(l1, l2):\n",
    "    \n",
    "    for e in l1:\n",
    "        l2.append(e)\n",
    "    pass\n",
    "\n",
    "\n",
    "s = mReadFile('x15ta.txt')\n",
    "l = []\n",
    "mList(s, l)\n",
    "l2 = []\n",
    "mFromPdf(l, l2)\n",
    "s2 = '\\n'.join(l2)\n",
    "mWriteFile('x15tb1.txt', 's22')\n",
    "# print(s[:320])\n",
    "# print(l)"
   ]
  },
  {
   "cell_type": "code",
   "execution_count": null,
   "metadata": {},
   "outputs": [],
   "source": []
  }
 ],
 "metadata": {
  "kernelspec": {
   "display_name": "Python 3",
   "language": "python",
   "name": "python3"
  },
  "language_info": {
   "codemirror_mode": {
    "name": "ipython",
    "version": 3
   },
   "file_extension": ".py",
   "mimetype": "text/x-python",
   "name": "python",
   "nbconvert_exporter": "python",
   "pygments_lexer": "ipython3",
   "version": "3.7.9"
  }
 },
 "nbformat": 4,
 "nbformat_minor": 4
}
