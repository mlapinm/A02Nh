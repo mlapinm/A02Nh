{
 "cells": [
  {
   "cell_type": "markdown",
   "metadata": {},
   "source": [
    "[general](#general)  \n",
    "[](#)  \n",
    "[](#)  \n",
    "[](#)  \n",
    "[](#)  \n",
    "[](#)  \n",
    "[make files txt](#make-files-txt)  \n"
   ]
  },
  {
   "cell_type": "markdown",
   "metadata": {},
   "source": [
    "## general"
   ]
  },
  {
   "cell_type": "code",
   "execution_count": 7,
   "metadata": {},
   "outputs": [
    {
     "name": "stdout",
     "output_type": "stream",
     "text": [
      "Это ручка.\n",
      "['hello', 'world']\n",
      "['hello|Здравствуйте', 'world|Мир']\n"
     ]
    }
   ],
   "source": [
    "from googletrans import Translator, constants\n",
    "from pprint import pprint\n",
    "# init the Google API translator\n",
    "translator = Translator()\n",
    "\n",
    "def translate(text):\n",
    "    translation = translator.translate(text, src=\"en\", dest=\"ru\")\n",
    "#     print(f\"{translation.origin} ({translation.src}) --> {translation.text} ({translation.dest})\")    return translation\n",
    "    return translation.text\n",
    "\n",
    "text = \"This is a pen.\"    \n",
    "translation = translate(text)   \n",
    "print(translation)\n",
    "\n",
    "def mReadFile(nameFile):\n",
    "    s = ''\n",
    "    with open(nameFile, encoding=\"utf8\") as file:\n",
    "        s = file.read()\n",
    "    return s\n",
    "\n",
    "def mWriteFile(nameFile, s):\n",
    "    with open(nameFile, 'w', encoding=\"utf8\") as file:\n",
    "        file.write(s)\n",
    "    return \n",
    "\n",
    "def translateListSmall(lien):\n",
    "    sen = '\\n'.join(lien)\n",
    "    sru = translate(sen)\n",
    "    liru = sru.split('\\n')\n",
    "    lienru = []\n",
    "    for i in range(len(liru)):\n",
    "        lienru.append(f'{lien[i]}|{liru[i]}')\n",
    "    return lienru\n",
    "\n",
    "def mList(s, l):\n",
    "    '''\n",
    "    s1\\ns2 => [s1, s2]\n",
    "    '''\n",
    "    l2 = s.split('\\n')\n",
    "    l2 = list(map(lambda x: x.strip(), l2))\n",
    "    for e in l2:\n",
    "        l.append(e)\n",
    "    pass\n",
    "\n",
    "\n",
    "l = ['hello' , 'world']\n",
    "l2 = translateListSmall(l)\n",
    "print(l)\n",
    "print(l2)\n"
   ]
  },
  {
   "cell_type": "code",
   "execution_count": null,
   "metadata": {},
   "outputs": [],
   "source": []
  },
  {
   "cell_type": "code",
   "execution_count": null,
   "metadata": {},
   "outputs": [],
   "source": []
  },
  {
   "cell_type": "code",
   "execution_count": null,
   "metadata": {},
   "outputs": [],
   "source": []
  },
  {
   "cell_type": "markdown",
   "metadata": {},
   "source": [
    "## make files txt"
   ]
  },
  {
   "cell_type": "code",
   "execution_count": 12,
   "metadata": {},
   "outputs": [
    {
     "name": "stdout",
     "output_type": "stream",
     "text": [
      "['01', '02', '03', '04', '05', '06', '07', '08', '09', '10', '11', '12', '13', '14', '15', '16', '17', '18', '19', '20', '21', '22', '23', '24', '25', '26', '27', '28', '29', '30']\n"
     ]
    }
   ],
   "source": [
    "def mFiles(n):\n",
    "    l = list(map(lambda x: f'0{x}' if x < 10 else f'{x}', range(1, n+1)))\n",
    "    print(l)\n",
    "    \n",
    "    pass\n",
    "\n",
    "mFiles(30)"
   ]
  },
  {
   "cell_type": "code",
   "execution_count": null,
   "metadata": {},
   "outputs": [],
   "source": []
  }
 ],
 "metadata": {
  "kernelspec": {
   "display_name": "Python 3",
   "language": "python",
   "name": "python3"
  },
  "language_info": {
   "codemirror_mode": {
    "name": "ipython",
    "version": 3
   },
   "file_extension": ".py",
   "mimetype": "text/x-python",
   "name": "python",
   "nbconvert_exporter": "python",
   "pygments_lexer": "ipython3",
   "version": "3.7.8"
  }
 },
 "nbformat": 4,
 "nbformat_minor": 4
}
