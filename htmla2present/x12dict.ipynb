{
 "cells": [
  {
   "cell_type": "markdown",
   "metadata": {},
   "source": [
    "## dir content\n",
    "### 1  \n",
    "- add cwd  \n",
    "- without name.md"
   ]
  },
  {
   "cell_type": "code",
   "execution_count": 13,
   "metadata": {},
   "outputs": [
    {
     "name": "stdout",
     "output_type": "stream",
     "text": [
      "[['g0112ru.md', '[УЧИМ АНГЛИЙСКИЕ СЛОВА -УРОК 1 для начинающих с нуля - Разговорный английский - 100 СЛОВ с ПЕРЕВОДОМ](#УЧИМ-АНГЛИЙСКИЕ-СЛОВА--УРОК-1-для-начинающих-с-нуля---Разговорный-английский---100-СЛОВ-с-ПЕРЕВОДОМ)', '## УЧИМ АНГЛИЙСКИЕ СЛОВА -УРОК 1 для начинающих с нуля - Разговорный английский - 100 СЛОВ с ПЕРЕВОДОМ', '[УЧИМ АНГЛИЙСКИЕ СЛОВА -УРОК 1 для начинающих с нуля - Разговорный английский - 100 СЛОВ с ПЕРЕВОДОМ](https://www.youtube.com/watch?v=ILNuN6cJaqM&list=PLch-HQm0QWxjNiplKQ1m9R8Jd0ji01S2I)', '== === === g0112ru.md === === =='], ['g0120ru.md', '[Английские Разговорные СЛОВА И ФРАЗЫ для Начинающих с Нуля -Изучаем Английский Словарный Запас](#Английские-Разговорные-СЛОВА-И-ФРАЗЫ-для-Начинающих-с-Нуля--Изучаем-Английский-Словарный-Запас)', '## Английские Разговорные СЛОВА И ФРАЗЫ для Начинающих с Нуля -Изучаем Английский Словарный Запас', '[Английские Разговорные СЛОВА И ФРАЗЫ для Начинающих с Нуля -Изучаем Английский Словарный Запас](https://www.youtube.com/watch?v=RX5kSj-x7Wg&list=PLch-HQm0QWxjNiplKQ1m9R8Jd0ji01S2I&index=3)', '== === === g0120ru.md === === =='], ['g0130ru.md', '[УРОК 2 - Учим Английские Слова для Начинающих с Нуля - Английский Язык Онлайн](#УРОК-2---Учим-Английские-Слова-для-Начинающих-с-Нуля---Английский-Язык-Онлайн)', '## УРОК 2 - Учим Английские Слова для Начинающих с Нуля - Английский Язык Онлайн', '[УРОК 2 - Учим Английские Слова для Начинающих с Нуля - Английский Язык Онлайн](https://www.youtube.com/watch?v=2Thq5mLXOhg&list=PLch-HQm0QWxjNiplKQ1m9R8Jd0ji01S2I&index=5)', '== === === g0130ru.md === === =='], ['g0140ru.md', '[УРОК 3 - Учим Английские Слова - 100 СЛОВ с ПЕРЕВОДОМ для начинающих - Разговорный английский](#УРОК-3---Учим-Английские-Слова---100-СЛОВ-с-ПЕРЕВОДОМ-для-начинающих---Разговорный-английский)', '## УРОК 3 - Учим Английские Слова - 100 СЛОВ с ПЕРЕВОДОМ для начинающих - Разговорный английский', '[УРОК 3 - Учим Английские Слова - 100 СЛОВ с ПЕРЕВОДОМ для начинающих - Разговорный английский](https://www.youtube.com/watch?v=7i1oi1v1KJY&list=PLch-HQm0QWxjNiplKQ1m9R8Jd0ji01S2I&index=6)', '== === === g0140ru.md === === =='], ['g0150ru.md', '[УРОК 4 - Учим Английские Слова - 110 СЛОВ с ПЕРЕВОДОМ для начинающих с нуля - Разговорный английский](#УРОК-4---Учим-Английские-Слова---110-СЛОВ-с-ПЕРЕВОДОМ-для-начинающих-с-нуля---Разговорный-английский)', '## УРОК 4 - Учим Английские Слова - 110 СЛОВ с ПЕРЕВОДОМ для начинающих с нуля - Разговорный английский', '[УРОК 4 - Учим Английские Слова - 110 СЛОВ с ПЕРЕВОДОМ для начинающих с нуля - Разговорный английский](https://www.youtube.com/watch?v=ou4xzd_4Cxc&list=PLch-HQm0QWxjNiplKQ1m9R8Jd0ji01S2I&index=8)', '== === === g0150ru.md === === =='], ['g0160ru.md', '[УЧИМ САМЫЕ ВАЖНЫЕ АНГЛИЙСКИЕ СЛОВА ЛЕГКО из серии \"Разговорный Английский для Начинающих с Нуля\"](#УЧИМ-САМЫЕ-ВАЖНЫЕ-АНГЛИЙСКИЕ-СЛОВА-ЛЕГКО-из-серии-\"Разговорный-Английский-для-Начинающих-с-Нуля\")', '## УЧИМ САМЫЕ ВАЖНЫЕ АНГЛИЙСКИЕ СЛОВА ЛЕГКО из серии \"Разговорный Английский для Начинающих с Нуля\"', '[УЧИМ САМЫЕ ВАЖНЫЕ АНГЛИЙСКИЕ СЛОВА ЛЕГКО из серии \"Разговорный Английский для Начинающих с Нуля\"](https://www.youtube.com/watch?v=93iDIzfve9o&list=PLch-HQm0QWxjNiplKQ1m9R8Jd0ji01S2I&index=9)', '== === === g0160ru.md === === =='], ['g0170ru.md', '[Учим Английские Слова - Английский для Начинающих - УРОК 6 с Переводом - Разговорный Английский-Ч1](#Учим-Английские-Слова---Английский-для-Начинающих---УРОК-6-с-Переводом---Разговорный-Английский-Ч1)', '## Учим Английские Слова - Английский для Начинающих - УРОК 6 с Переводом - Разговорный Английский-Ч1', '[Учим Английские Слова - Английский для Начинающих - УРОК 6 с Переводом - Разговорный Английский-Ч1](https://www.youtube.com/watch?v=x1L_Mxuy7I8&list=PLch-HQm0QWxjNiplKQ1m9R8Jd0ji01S2I&index=10)', '== === === g0170ru.md === === ==']]\n",
      "7\n"
     ]
    }
   ],
   "source": [
    "import os\n",
    "import re\n",
    "\n",
    "def mMd(s):\n",
    "    '''\n",
    "    a*class.md => True\n",
    "    '''\n",
    "    match = re.search(r'README.md$', s)\n",
    "    if match:\n",
    "        return False\n",
    "    match = re.search(r'readme.md$', s)\n",
    "    if match:\n",
    "        return False\n",
    "\n",
    "    match = re.search(r'^g01\\w*.md$', s)\n",
    "    return True if match else False\n",
    "\n",
    "def listPreview(listList, cwd = r'.'):\n",
    "    listFiles = list(filter(mMd, os.listdir(cwd)))\n",
    "\n",
    "    for i,v in enumerate(listFiles):\n",
    "        listList.append([])\n",
    "        listList[i].append(v)\n",
    "        with open(cwd + r'\\\\' + v, encoding=\"utf8\") as file:\n",
    "            for j,s in enumerate(file):\n",
    "                if j<5 and len(s.strip())>0:\n",
    "                    listList[i].append(s.strip())\n",
    "        listList[i].append(f'== === === {v} === === ==')\n",
    "    print(listList)\n",
    "\n",
    "def writeFile(listList, name):\n",
    "    list = []\n",
    "    for v in listList:\n",
    "        s = '\\n'.join(v)\n",
    "        list.append(s)\n",
    "    with open(name, \"w\", encoding = \"utf8\") as file:\n",
    "        file.write('\\n'.join(list))\n",
    "    \n",
    "listList = []    \n",
    "# cwd = r'.\\\\htmla2class'\n",
    "cwd ='.'\n",
    "cwd = r'.\\\\' + cwd\n",
    "listPreview(listList, cwd)\n",
    "writeFile(listList, 'x12a.txt')\n",
    "print(len(listList))"
   ]
  },
  {
   "cell_type": "markdown",
   "metadata": {},
   "source": [
    "## 2"
   ]
  },
  {
   "cell_type": "code",
   "execution_count": 14,
   "metadata": {},
   "outputs": [
    {
     "name": "stdout",
     "output_type": "stream",
     "text": [
      ".\n",
      "7\n"
     ]
    }
   ],
   "source": [
    "def makeContent(ll):\n",
    "    lres = []\n",
    "    for v in ll:\n",
    "    #     print(v)\n",
    "        pass\n",
    "        l3 = v\n",
    "        # print(l3)\n",
    "        name = l3[0]\n",
    "        header = ''\n",
    "        for v in l3:\n",
    "            match = re.search(r'\\[(.+)\\]\\(.+\\)', v)\n",
    "            if match:\n",
    "                header = match[1]\n",
    "                break\n",
    "    #     print(name, 'dd', header)\n",
    "        lres.append(f'[{header}]({name})  ')\n",
    "    for v in lres:\n",
    "#         print(v)\n",
    "        pass\n",
    "    return lres\n",
    "\n",
    "def mListContentCwd(lcontent, cwd):\n",
    "    cwd2 = re.sub(r'^\\.\\\\\\\\','', cwd)\n",
    "    lres = []\n",
    "    for v in lcontent:\n",
    "        v2 = re.sub(r'\\((.+)\\)', f'({cwd2}/\\\\1)', v)\n",
    "        lres.append(v2)\n",
    "        pass\n",
    "    print(cwd2)\n",
    "    return lres\n",
    "    pass\n",
    "\n",
    "def makeContentFile(lcontent, lcontentcwd, filename):\n",
    "    s = '\\n'.join(lcontent)\n",
    "#     print(s[:80])\n",
    "    s += '\\n\\n'\n",
    "    s += '\\n'.join(lcontentcwd)\n",
    "    with open(filename, \"w\", encoding=\"utf8\") as file:\n",
    "        file.write(s)\n",
    "# print(cwd)    \n",
    "lcontent = makeContent(listList)\n",
    "lcontentcwd = mListContentCwd(lcontent, cwd)\n",
    "print(len(lcontent))\n",
    "# print(cwd)\n",
    "makeContentFile(lcontent, lcontentcwd, 'x12c.txt')\n",
    "\n",
    "# print(lcontentcwd)\n"
   ]
  },
  {
   "cell_type": "markdown",
   "metadata": {},
   "source": []
  },
  {
   "cell_type": "markdown",
   "metadata": {},
   "source": [
    "[book.pythontips.com](https://book.pythontips.com/en/latest/map_filter.html)"
   ]
  }
 ],
 "metadata": {
  "kernelspec": {
   "display_name": "Python 3",
   "language": "python",
   "name": "python3"
  },
  "language_info": {
   "codemirror_mode": {
    "name": "ipython",
    "version": 3
   },
   "file_extension": ".py",
   "mimetype": "text/x-python",
   "name": "python",
   "nbconvert_exporter": "python",
   "pygments_lexer": "ipython3",
   "version": "3.7.8"
  }
 },
 "nbformat": 4,
 "nbformat_minor": 4
}
