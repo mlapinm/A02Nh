{
 "cells": [
  {
   "cell_type": "markdown",
   "metadata": {},
   "source": [
    "## dir content\n",
    "### 1  \n",
    "- add cwd  \n",
    "- without name.md"
   ]
  },
  {
   "cell_type": "code",
   "execution_count": 4,
   "metadata": {},
   "outputs": [
    {
     "name": "stdout",
     "output_type": "stream",
     "text": [
      "[['b0102ru.md', '## Языковая школа Кендры - Kendra’s Language School', '[1000 English conversation phrases that seem easy but are not](https://www.youtube.com/watch?v=g9m7ezjEsMA)', '[Медленная и простая английская разговорная практика — для начинающих](https://www.youtube.com/watch?v=fxWQsn2dFgU)', '[]()', '== === === b0102ru.md === === =='], ['b0104ru.md', '[1000 English conversation phrases that seem easy but are not](#1000-English-conversation-phrases-that-seem-easy-but-are-not)', '## 1000 English conversation phrases that seem easy but are not', '[1000 English conversation phrases that seem easy but are not](https://wwwyoutubecom/watch?v=g9m7ezjEsMA)', '== === === b0104ru.md === === =='], ['b0106ru.md', '[1000 English conversation phrases that seem easy but are not](#1000-English-conversation-phrases-that-seem-easy-but-are-not)', '## 1000 English conversation phrases that seem easy but are not', '[1000 English conversation phrases that seem easy but are not](https://www.youtube.com/watch?v=g9m7ezjEsMA)', '== === === b0106ru.md === === =='], ['b0108ru.md', 'Everyday English Listening ||| Listen and Speak English Like a Native ||| American English Practice', 'https://www.youtube.com/watch?v=-IS53K0q2VA', 'what is your name my name is Pedro', 'what is your name my name is Pedro', '== === === b0108ru.md === === =='], ['b0110ru.md', '[500 Slightly Long English conversation phrases - Intermediate Level](https://www.youtube.com/watch?v=GAF3BDZZJQw)', \"you needn't have taken an umbrella with you\", 'people are more educated now than they used to be', '== === === b0110ru.md === === =='], ['b0112ru.md', \"let's learn useful expressions in English [Music] hello hello hello\", 'good morning', 'good afternoon', 'good evening', \"it's fine today\", '== === === b0112ru.md === === =='], ['b0114ru.md', '[English Listening & Speaking Practice - Listen and Repeat the Sentences](https://www.youtube.com/watch?v=0H1tm1SD7dA)', \"let's learn English conversation at last the bus stop\", '== === === b0114ru.md === === =='], ['b0206ru.md', '[1000 Practical English Phrases](#1000-Practical-English-Phrases)', '## 1000 Practical English Phrases', '[1000 Practical English Phrases](https://youtu.be/6u8mC8Wn6Cc)', '== === === b0206ru.md === === =='], ['b0208ru.md', '[English listening skills practice](#English-listening-skills-practice)', '## English listening skills practice', '[English listening skills practice](https://youtu.be/uTueHiA1CKM)', '== === === b0208ru.md === === =='], ['b0210ru.md', '[1500 English Conversation Practice](#1500-English-Conversation-Practice)', '## 1500 English Conversation Practice', '[1500 English Conversation Practice](https://youtu.be/iXnA4d51vV8)', '== === === b0210ru.md === === =='], ['b0212ru.md', '[1000 English Conversation Practice](#1000-English-Conversation-Practice)', '## 1000 English Conversation Practice', '[1000 English Conversation Practice](https://youtu.be/VOQ4Vby9SJM)', '== === === b0212ru.md === === =='], ['b0214ru.md', '[1100 Basic English Phrases for Conversation](#1100-Basic-English-Phrases-for-Conversation)', '## 1100 Basic English Phrases for Conversation', '[1100 Basic English Phrases for Conversation](https://www.youtube.com/watch?v=X_FL6Ta_3WM&feature=youtu.be)', '== === === b0214ru.md === === =='], ['b0216ru.md', '[1000 Useful Expressions in English](#1000-Useful-Expressions-in-English)', '## 1000 Useful Expressions in English', '[1000 Useful Expressions in English](https://youtu.be/r0npU0D51OA)', '== === === b0216ru.md === === ==']]\n",
      "13\n"
     ]
    }
   ],
   "source": [
    "import os\n",
    "import re\n",
    "\n",
    "def mMd(s):\n",
    "    '''\n",
    "    a*class.md => True\n",
    "    '''\n",
    "    match = re.search(r'README.md$', s)\n",
    "    if match:\n",
    "        return False\n",
    "    match = re.search(r'readme.md$', s)\n",
    "    if match:\n",
    "        return False\n",
    "\n",
    "    match = re.search(r'^b0\\w*.md$', s)\n",
    "    return True if match else False\n",
    "\n",
    "def listPreview(listList, cwd = r'.'):\n",
    "    listFiles = list(filter(mMd, os.listdir(cwd)))\n",
    "\n",
    "    for i,v in enumerate(listFiles):\n",
    "        listList.append([])\n",
    "        listList[i].append(v)\n",
    "        with open(cwd + r'\\\\' + v, encoding=\"utf8\") as file:\n",
    "            for j,s in enumerate(file):\n",
    "                if j<5 and len(s.strip())>0:\n",
    "                    listList[i].append(s.strip())\n",
    "        listList[i].append(f'== === === {v} === === ==')\n",
    "    print(listList)\n",
    "\n",
    "def writeFile(listList, name):\n",
    "    list = []\n",
    "    for v in listList:\n",
    "        s = '\\n'.join(v)\n",
    "        list.append(s)\n",
    "    with open(name, \"w\", encoding = \"utf8\") as file:\n",
    "        file.write('\\n'.join(list))\n",
    "    \n",
    "listList = []    \n",
    "# cwd = r'.\\\\htmla2class'\n",
    "cwd ='.'\n",
    "cwd = r'.\\\\' + cwd\n",
    "listPreview(listList, cwd)\n",
    "writeFile(listList, 'x12a.txt')\n",
    "print(len(listList))"
   ]
  },
  {
   "cell_type": "markdown",
   "metadata": {},
   "source": [
    "## 2"
   ]
  },
  {
   "cell_type": "code",
   "execution_count": 6,
   "metadata": {},
   "outputs": [
    {
     "name": "stdout",
     "output_type": "stream",
     "text": [
      ".\n",
      "13\n"
     ]
    }
   ],
   "source": [
    "def makeContent(ll):\n",
    "    lres = []\n",
    "    for v in ll:\n",
    "    #     print(v)\n",
    "        pass\n",
    "        l3 = v\n",
    "        # print(l3)\n",
    "        name = l3[0]\n",
    "        header = ''\n",
    "        for v in l3:\n",
    "            match = re.search(r'\\[(.+)\\]\\(.+\\)', v)\n",
    "            if match:\n",
    "                header = match[1]\n",
    "                break\n",
    "    #     print(name, 'dd', header)\n",
    "        lres.append(f'[{header}]({name})')\n",
    "    for v in lres:\n",
    "#         print(v)\n",
    "        pass\n",
    "    return lres\n",
    "\n",
    "def mListContentCwd(lcontent, cwd):\n",
    "    cwd2 = re.sub(r'^\\.\\\\\\\\','', cwd)\n",
    "    lres = []\n",
    "    for v in lcontent:\n",
    "        v2 = re.sub(r'\\((.+)\\)', f'({cwd2}/\\\\1)', v)\n",
    "        lres.append(v2)\n",
    "        pass\n",
    "    print(cwd2)\n",
    "    return lres\n",
    "    pass\n",
    "\n",
    "def makeContentFile(lcontent, lcontentcwd, filename):\n",
    "    s = '\\n'.join(lcontent)\n",
    "#     print(s[:80])\n",
    "    s += '\\n\\n'\n",
    "    s += '\\n'.join(lcontentcwd)\n",
    "    with open(filename, \"w\", encoding=\"utf8\") as file:\n",
    "        file.write(s)\n",
    "# print(cwd)    \n",
    "lcontent = makeContent(listList)\n",
    "lcontentcwd = mListContentCwd(lcontent, cwd)\n",
    "print(len(lcontent))\n",
    "# print(cwd)\n",
    "makeContentFile(lcontent, lcontentcwd, 'x12c.txt')\n",
    "\n",
    "# print(lcontentcwd)\n"
   ]
  },
  {
   "cell_type": "markdown",
   "metadata": {},
   "source": []
  },
  {
   "cell_type": "markdown",
   "metadata": {},
   "source": [
    "[book.pythontips.com](https://book.pythontips.com/en/latest/map_filter.html)"
   ]
  }
 ],
 "metadata": {
  "kernelspec": {
   "display_name": "Python 3",
   "language": "python",
   "name": "python3"
  },
  "language_info": {
   "codemirror_mode": {
    "name": "ipython",
    "version": 3
   },
   "file_extension": ".py",
   "mimetype": "text/x-python",
   "name": "python",
   "nbconvert_exporter": "python",
   "pygments_lexer": "ipython3",
   "version": "3.7.8"
  }
 },
 "nbformat": 4,
 "nbformat_minor": 4
}
