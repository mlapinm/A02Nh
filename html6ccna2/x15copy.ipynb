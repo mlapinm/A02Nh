{
 "cells": [
  {
   "cell_type": "markdown",
   "metadata": {},
   "source": []
  },
  {
   "cell_type": "markdown",
   "metadata": {},
   "source": []
  },
  {
   "cell_type": "markdown",
   "metadata": {},
   "source": []
  },
  {
   "cell_type": "markdown",
   "metadata": {},
   "source": []
  },
  {
   "cell_type": "code",
   "execution_count": 2,
   "metadata": {},
   "outputs": [
    {
     "data": {
      "text/plain": [
       "'3.txt'"
      ]
     },
     "execution_count": 2,
     "metadata": {},
     "output_type": "execute_result"
    }
   ],
   "source": [
    "import shutil\n",
    "shutil.copyfile('figures/1.txt', '3.txt')"
   ]
  },
  {
   "cell_type": "code",
   "execution_count": 6,
   "metadata": {},
   "outputs": [
    {
     "name": "stdout",
     "output_type": "stream",
     "text": [
      "344 ['1.txt', 'img-2020-11-19-14-57-29.png', 'img-2020-11-19-14-57-55.png', 'img-2020-11-19-14-58-19.png']\n"
     ]
    }
   ],
   "source": [
    "import os\n",
    "l = os.listdir('figures/')\n",
    "print(len(l), l[:4])"
   ]
  },
  {
   "cell_type": "code",
   "execution_count": 16,
   "metadata": {},
   "outputs": [
    {
     "name": "stdout",
     "output_type": "stream",
     "text": [
      "341 [[1, 15], [2, 24], [3, 15], [4, 9], [5, 10], [6, 8], [7, 4], [8, 14], [9, 12], [10, 10], [11, 22], [12, 5], [13, 9], [14, 12], [15, 6], [16, 14], [17, 7], [18, 15], [19, 17], [20, 7], [21, 5], [22, 7], [23, 12], [24, 13], [25, 11], [26, 22], [27, 11], [28, 4], [29, 21]]\n"
     ]
    }
   ],
   "source": [
    "lfig = [[1, 15], [2, 24], [3, 15], [4, 9], [5, 10], \n",
    "        [6, 8], [7, 4], [8, 14], [9, 12], [10, 10], \n",
    "        [11, 22], [12, 5], [13, 9], [14, 12], \n",
    "        [15, 6], [16, 14], [17, 7], [18, 15], \n",
    "        [19, 17], [20, 7], [21, 5], [22, 7], \n",
    "        [23, 12], [24, 13], [25, 11], [26, 22], \n",
    "        [27, 11], [28, 4], [29, 21]]\n",
    "\n",
    "sum = 0\n",
    "for e in lfig:\n",
    "    sum += e[1]\n",
    "print(sum, lfig)"
   ]
  },
  {
   "cell_type": "code",
   "execution_count": 13,
   "metadata": {},
   "outputs": [
    {
     "name": "stdout",
     "output_type": "stream",
     "text": [
      "[[1, ], [2, ], [3, ], [4, ], [5, ], [6, ], [7, ], [8, ], [9, ], [10, ], [11, ], [12, ], [13, ], [14, ], [15, ], [16, ], [17, ], [18, ], [19, ], [20, ], [21, ], [22, ], [23, ], [24, ], [25, ], [26, ], [27, ], [28, ], [29, ], [30, ]]\n"
     ]
    }
   ],
   "source": [
    "s = '['\n",
    "for i in range(1, 31):\n",
    "    s += f'[{i}, ], '\n",
    "s = s[:-2]    \n",
    "s += ']'\n",
    "print(s)"
   ]
  },
  {
   "cell_type": "code",
   "execution_count": null,
   "metadata": {},
   "outputs": [],
   "source": []
  }
 ],
 "metadata": {
  "kernelspec": {
   "display_name": "Python 3",
   "language": "python",
   "name": "python3"
  },
  "language_info": {
   "codemirror_mode": {
    "name": "ipython",
    "version": 3
   },
   "file_extension": ".py",
   "mimetype": "text/x-python",
   "name": "python",
   "nbconvert_exporter": "python",
   "pygments_lexer": "ipython3",
   "version": "3.7.8"
  }
 },
 "nbformat": 4,
 "nbformat_minor": 4
}
