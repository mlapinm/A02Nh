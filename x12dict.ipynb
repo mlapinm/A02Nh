{
 "cells": [
  {
   "cell_type": "markdown",
   "metadata": {},
   "source": [
    "## dir content\n",
    "### 1  \n",
    "- add cwd  \n",
    "- without name.md"
   ]
  },
  {
   "cell_type": "code",
   "execution_count": 102,
   "metadata": {},
   "outputs": [
    {
     "name": "stdout",
     "output_type": "stream",
     "text": [
      "[['a024b10class.md', 'a024b10class.md', '[10 Asking About Relationships](#10-Asking-About-Relationships)', '== === === a024b10class.md === === =='], ['a024b11class.md', 'a024b11class.md', '[11 Giving and Receiving Compliments](#11-Giving-and-Receiving-Compliments)', '== === === a024b11class.md === === =='], ['a024b12class.md', 'a024b12class.md', '[12 Asking \"What did you do on the weekend?\"](#12-Asking-\"What-did-you-do-on-the-weekend?\")', '== === === a024b12class.md === === =='], ['a024b13class.md', 'a024b13class.md', '[13 Talking About Music](#13-Talking-About-Music)', '== === === a024b13class.md === === =='], ['a024b14class.md', 'a024b14class.md', '[14 Talking About Food](#14-Talking-About-Food)', '== === === a024b14class.md === === =='], ['a024b15class.md', 'a024b15class.md', '[15 Asking \"Are you going on vacation this year?\"](#15-Asking-\"Are-you-going-on-vacation-this-year?\")', '== === === a024b15class.md === === =='], ['a024b16class.md', 'a024b16class.md', '[16 Asking How People Know Each Other](#16-Asking-How-People-Know-Each-Other)', '== === === a024b16class.md === === =='], ['a024b17class.md', 'a024b17class.md', '[17 Talking About Sports](#17-Talking-About-Sports)', '== === === a024b17class.md === === =='], ['a024b18class.md', 'a024b18class.md', '[18 Asking \"What are you doing in this city?\"](#18-Asking-\"What-are-you-doing-in-this-city?\")', '== === === a024b18class.md === === =='], ['a024b19class.md', 'a024b19class.md', '[19 Talking About Movies](#19-Talking-About-Movies)', '== === === a024b19class.md === === =='], ['a024b20class.md', 'a024b20class.md', '[20 Talking About Ages](#20-Talking-About-Ages)', '== === === a024b20class.md === === =='], ['a024b21class.md', 'a024b21class.md', '[21 Asking \"Did you hear about the news?\"](#21-Asking-\"Did-you-hear-about-the-news?\")', '== === === a024b21class.md === === =='], ['a024b22class.md', 'a024b22class.md', '[22  Talking About Travel](#22--Talking-About-Travel)', '## 22  Talking About Travel', '== === === a024b22class.md === === =='], ['a024b23class.md', 'a024b23class.md', '[23 Talking About Pets](#23-Talking-About-Pets)', '== === === a024b23class.md === === =='], ['a024b24class.md', 'a024b24class.md', '[24 Talking About Your Weekend Plans](#24-Talking-About-Your-Weekend-Plans)', '== === === a024b24class.md === === =='], ['a024b25class.md', 'a024b25class.md', '[25 Using, Like, Filler Words](#25-Using-Like-Filler-Words)', '== === === a024b25class.md === === =='], ['a024b26class.md', 'a024b26class.md', '[26 How to Introduce Yourself in English](#26-How-to-Introduce-Yourself-in-English)', '== === === a024b26class.md === === =='], ['a024b27class.md', 'a024b27class.md', '[27 How to Describe Where You’re From in English](#27-How-to-Describe-Where-You’re-From-in-English)', '== === === a024b27class.md === === =='], ['a024b28class.md', 'a024b28class.md', '[28 How to Navigate Passport Control in English](#28-How-to-Navigate-Passport-Control-in-English)', '== === === a024b28class.md === === =='], ['a024b29class.md', 'a024b29class.md', '[29 How to Exchange Contact Information in English](#29-How-to-Exchange-Contact-Information-in-English)', '== === === a024b29class.md === === =='], ['a024b30class.md', 'a024b30class.md', '[30 How to Check In at a Hotel in English](#30-How-to-Check-In-at-a-Hotel-in-English)', '== === === a024b30class.md === === =='], ['a024b31class.md', 'a024b31class.md', '[31 How to Buy Items at a Register in English](#31-How-to-Buy-Items-at-a-Register-in-English)', '== === === a024b31class.md === === =='], ['a024b32class.md', 'a024b32class.md', '[32 Explaining Details about an Appointment in English](#32-Explaining-Details-about-an-Appointment-in-English)', '== === === a024b32class.md === === =='], ['a024b33class.md', 'a024b33class.md', '[33 Greeting an Old Acquaintance](#33-Greeting-an-Old-Acquaintance)', '== === === a024b33class.md === === =='], ['a024b34class.md', 'a024b34class.md', '[34 Discussing Future Plans](#34-Discussing-Future-Plans)', '== === === a024b34class.md === === =='], ['a024b35class.md', 'a024b35class.md', '[35 Buying Tickets for Public Transportation](#35-Buying-Tickets-for-Public-Transportation)', '== === === a024b35class.md === === ==']]\n",
      "26\n"
     ]
    }
   ],
   "source": [
    "import os\n",
    "import re\n",
    "\n",
    "def mMd(s):\n",
    "    '''\n",
    "    a*class.md => True\n",
    "    '''\n",
    "    match = re.search(r'README.md$', s)\n",
    "    if match:\n",
    "        return False\n",
    "\n",
    "    match = re.search(r'^a024b\\w*.md$', s)\n",
    "    return True if match else False\n",
    "\n",
    "def listPreview(listList, cwd = r'.'):\n",
    "    listFiles = list(filter(mMd, os.listdir(cwd)))\n",
    "\n",
    "    for i,v in enumerate(listFiles):\n",
    "        listList.append([])\n",
    "        listList[i].append(v)\n",
    "        with open(cwd + r'\\\\' + v, encoding=\"utf8\") as file:\n",
    "            for j,s in enumerate(file):\n",
    "                if j<5 and len(s.strip())>0:\n",
    "                    listList[i].append(s.strip())\n",
    "        listList[i].append(f'== === === {v} === === ==')\n",
    "    print(listList)\n",
    "\n",
    "def writeFile(listList, name):\n",
    "    list = []\n",
    "    for v in listList:\n",
    "        s = '\\n'.join(v)\n",
    "        list.append(s)\n",
    "    with open(name, \"w\", encoding = \"utf8\") as file:\n",
    "        file.write('\\n'.join(list))\n",
    "    \n",
    "listList = []    \n",
    "# cwd = r'.\\\\htmla2class'\n",
    "cwd ='htmla2class'\n",
    "cwd = r'.\\\\' + cwd\n",
    "listPreview(listList, cwd)\n",
    "writeFile(listList, 'x12a.txt')\n",
    "print(len(listList))"
   ]
  },
  {
   "cell_type": "markdown",
   "metadata": {},
   "source": [
    "## 2"
   ]
  },
  {
   "cell_type": "code",
   "execution_count": 127,
   "metadata": {},
   "outputs": [
    {
     "name": "stdout",
     "output_type": "stream",
     "text": [
      "htmla2class\n",
      "26\n"
     ]
    }
   ],
   "source": [
    "def makeContent(ll):\n",
    "    lres = []\n",
    "    for v in ll:\n",
    "    #     print(v)\n",
    "        pass\n",
    "        l3 = v\n",
    "        # print(l3)\n",
    "        name = l3[0]\n",
    "        header = ''\n",
    "        for v in l3:\n",
    "            match = re.search(r'\\[(.+)\\]\\(.+\\)', v)\n",
    "            if match:\n",
    "                header = match[1]\n",
    "                break\n",
    "    #     print(name, 'dd', header)\n",
    "        lres.append(f'[{header}]({name})')\n",
    "    for v in lres:\n",
    "#         print(v)\n",
    "        pass\n",
    "    return lres\n",
    "\n",
    "def mListContentCwd(lcontent, cwd):\n",
    "    cwd2 = re.sub(r'^\\.\\\\\\\\','', cwd)\n",
    "    lres = []\n",
    "    for v in lcontent:\n",
    "        v2 = re.sub(r'\\((.+)\\)', f'({cwd2}/\\\\1)', v)\n",
    "        lres.append(v2)\n",
    "        pass\n",
    "    print(cwd2)\n",
    "    return lres\n",
    "    pass\n",
    "\n",
    "def makeContentFile(lcontent, lcontentcwd, filename):\n",
    "    s = '\\n'.join(lcontent)\n",
    "#     print(s[:80])\n",
    "    s += '\\n\\n'\n",
    "    s += '\\n'.join(lcontentcwd)\n",
    "    with open(filename, \"w\", encoding=\"utf8\") as file:\n",
    "        file.write(s)\n",
    "# print(cwd)    \n",
    "lcontent = makeContent(listList)\n",
    "lcontentcwd = mListContentCwd(lcontent, cwd)\n",
    "print(len(lcontent))\n",
    "# print(cwd)\n",
    "makeContentFile(lcontent, lcontentcwd, 'x12c.txt')\n",
    "\n",
    "# print(lcontentcwd)\n"
   ]
  },
  {
   "cell_type": "markdown",
   "metadata": {},
   "source": []
  },
  {
   "cell_type": "markdown",
   "metadata": {},
   "source": [
    "[book.pythontips.com](https://book.pythontips.com/en/latest/map_filter.html)"
   ]
  }
 ],
 "metadata": {
  "kernelspec": {
   "display_name": "Python 3",
   "language": "python",
   "name": "python3"
  },
  "language_info": {
   "codemirror_mode": {
    "name": "ipython",
    "version": 3
   },
   "file_extension": ".py",
   "mimetype": "text/x-python",
   "name": "python",
   "nbconvert_exporter": "python",
   "pygments_lexer": "ipython3",
   "version": "3.7.8"
  }
 },
 "nbformat": 4,
 "nbformat_minor": 4
}
