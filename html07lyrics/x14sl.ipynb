{
 "cells": [
  {
   "cell_type": "markdown",
   "metadata": {},
   "source": []
  },
  {
   "cell_type": "markdown",
   "metadata": {},
   "source": []
  },
  {
   "cell_type": "markdown",
   "metadata": {},
   "source": []
  },
  {
   "cell_type": "markdown",
   "metadata": {},
   "source": [
    "## general"
   ]
  },
  {
   "cell_type": "code",
   "execution_count": 2,
   "metadata": {},
   "outputs": [],
   "source": [
    "def mReadFile(nameFile):\n",
    "    s = ''\n",
    "    with open(nameFile, encoding=\"utf8\") as file:\n",
    "        s = file.read()\n",
    "    return s\n",
    "\n",
    "def mWriteFile(nameFile, s):\n",
    "    with open(nameFile, 'w', encoding=\"utf8\") as file:\n",
    "        file.write(s)\n",
    "    return s\n"
   ]
  },
  {
   "cell_type": "markdown",
   "metadata": {},
   "source": [
    "## page list\n",
    "```\n",
    "[1](#1)\n",
    "[2](#2)\n",
    "[3](#3)\n",
    "## 1\n",
    "--|--\n",
    "## 2\n",
    "--|--\n",
    "## 3\n",
    "--|--\n",
    "```"
   ]
  },
  {
   "cell_type": "code",
   "execution_count": 30,
   "metadata": {},
   "outputs": [
    {
     "name": "stdout",
     "output_type": "stream",
     "text": [
      "['1Another head hangs lowly', 'Child is slowly taken', 'And the violence caused such silence']\n",
      "['2Another head hangs lowly', 'Child is slowly taken', 'And the violence caused such silence']\n",
      "['3Another head hangs lowly', 'Child is slowly taken', 'And the violence caused such silence']\n",
      "18\n"
     ]
    }
   ],
   "source": [
    "import re\n",
    "\n",
    "s = mReadFile(\"x14a.txt\")\n",
    "\n",
    "l = s.split('\\n')\n",
    "l = list(filter(lambda x: len(x.strip())>0, l))\n",
    "lout = ['(', ')', \"'\", ',']\n",
    "lnav = []\n",
    "for e in l:\n",
    "    match = re.search('^##?', e)\n",
    "    e2 = ''\n",
    "    e4 = ''\n",
    "    e12 = ''\n",
    "    if match:\n",
    "        e2 = re.sub('^##?','',e)\n",
    "        e2 = e2.strip()\n",
    "        e4 = re.sub(' ','-',e2)\n",
    "        for r in lout:\n",
    "            e4 = e4.replace(r, '')\n",
    "        e12 = f'[{e2}](#{e4})   '\n",
    "        lnav.append(e12)\n",
    "#         print(e12)\n",
    "\n",
    "l = lnav + l\n",
    "\n",
    "ltab = []\n",
    "for e in l:\n",
    "    match1 = re.search('\\[.*\\]\\(.*\\)', e)\n",
    "    match2 = re.search('^##?', e)\n",
    "    if match1 or match2:\n",
    "        if len(ltab)!=0:\n",
    "            print(ltab)\n",
    "            ltab = []\n",
    "    else:\n",
    "        ltab.append(e)\n",
    "        \n",
    "        \n",
    "        \n",
    "\n",
    "if len(ltab)!=0:\n",
    "    print(ltab)\n",
    "    ltab = []\n",
    "\n",
    "\n",
    "# print(lnav)\n",
    "print(len(l))"
   ]
  },
  {
   "cell_type": "code",
   "execution_count": null,
   "metadata": {},
   "outputs": [],
   "source": []
  },
  {
   "cell_type": "code",
   "execution_count": null,
   "metadata": {},
   "outputs": [],
   "source": []
  }
 ],
 "metadata": {
  "kernelspec": {
   "display_name": "Python 3",
   "language": "python",
   "name": "python3"
  },
  "language_info": {
   "codemirror_mode": {
    "name": "ipython",
    "version": 3
   },
   "file_extension": ".py",
   "mimetype": "text/x-python",
   "name": "python",
   "nbconvert_exporter": "python",
   "pygments_lexer": "ipython3",
   "version": "3.7.8"
  }
 },
 "nbformat": 4,
 "nbformat_minor": 4
}
