{
 "cells": [
  {
   "cell_type": "markdown",
   "metadata": {},
   "source": []
  },
  {
   "cell_type": "markdown",
   "metadata": {},
   "source": []
  },
  {
   "cell_type": "markdown",
   "metadata": {},
   "source": []
  },
  {
   "cell_type": "markdown",
   "metadata": {},
   "source": [
    "## general"
   ]
  },
  {
   "cell_type": "code",
   "execution_count": 59,
   "metadata": {},
   "outputs": [
    {
     "name": "stdout",
     "output_type": "stream",
     "text": [
      "Это ручка.\n",
      "['hello', 'world']\n",
      "['hello|Здравствуйте', 'world|Мир']\n"
     ]
    }
   ],
   "source": [
    "from googletrans import Translator, constants\n",
    "from pprint import pprint\n",
    "# init the Google API translator\n",
    "translator = Translator()\n",
    "\n",
    "def translate(text):\n",
    "    translation = translator.translate(text, src=\"en\", dest=\"ru\")\n",
    "#     print(f\"{translation.origin} ({translation.src}) --> {translation.text} ({translation.dest})\")    return translation\n",
    "    return translation.text\n",
    "\n",
    "text = \"This is a pen.\"    \n",
    "translation = translate(text)   \n",
    "print(translation)\n",
    "\n",
    "def mReadFile(nameFile):\n",
    "    s = ''\n",
    "    with open(nameFile, encoding=\"utf8\") as file:\n",
    "        s = file.read()\n",
    "    return s\n",
    "\n",
    "def mWriteFile(nameFile, s):\n",
    "    with open(nameFile, 'w', encoding=\"utf8\") as file:\n",
    "        file.write(s)\n",
    "    return s\n",
    "\n",
    "def translateListSmall(lien):\n",
    "    sen = '\\n'.join(lien)\n",
    "    sru = translate(sen)\n",
    "    liru = sru.split('\\n')\n",
    "    lienru = []\n",
    "    for i in range(len(liru)):\n",
    "        lienru.append(f'{lien[i]}|{liru[i]}')\n",
    "    return lienru\n",
    "\n",
    "l = ['hello' , 'world']\n",
    "l2 = translateListSmall(l)\n",
    "print(l)\n",
    "print(l2)\n"
   ]
  },
  {
   "cell_type": "code",
   "execution_count": 60,
   "metadata": {},
   "outputs": [
    {
     "name": "stdout",
     "output_type": "stream",
     "text": [
      "['hello', 'world']\n",
      "['hello|Здравствуйте', 'world|Мир']\n"
     ]
    }
   ],
   "source": [
    "def translateListSmall(lien):\n",
    "    sen = '\\n'.join(lien)\n",
    "    sru = translate(sen)\n",
    "    liru = sru.split('\\n')\n",
    "    lienru = []\n",
    "    for i in range(len(liru)):\n",
    "        lienru.append(f'{lien[i]}|{liru[i]}')\n",
    "    return lienru\n",
    "\n",
    "l = ['hello' , 'world']\n",
    "l2 = translateListSmall(l)\n",
    "print(l)\n",
    "print(l2)\n"
   ]
  },
  {
   "cell_type": "markdown",
   "metadata": {},
   "source": [
    "## page list\n",
    "```\n",
    "[1](#1)\n",
    "[2](#2)\n",
    "[3](#3)\n",
    "## 1\n",
    "--|--\n",
    "## 2\n",
    "--|--\n",
    "## 3\n",
    "--|--\n",
    "```"
   ]
  },
  {
   "cell_type": "code",
   "execution_count": 62,
   "metadata": {},
   "outputs": [
    {
     "name": "stdout",
     "output_type": "stream",
     "text": [
      "431 466\n"
     ]
    }
   ],
   "source": [
    "import re\n",
    "\n",
    "s = mReadFile(\"x14a.txt\")\n",
    "\n",
    "l = s.split('\\n')\n",
    "l = list(filter(lambda x: len(x.strip())>0, l))\n",
    "l.append('11')\n",
    "lout = ['(', ')', \"'\", ',']\n",
    "lnav = []\n",
    "for e in l:\n",
    "    match = re.search('^##?', e)\n",
    "    e2 = ''\n",
    "    e4 = ''\n",
    "    e12 = ''\n",
    "    if match:\n",
    "        e2 = re.sub('^##?','',e)\n",
    "        e2 = e2.strip()\n",
    "        e4 = re.sub(' ','-',e2)\n",
    "        for r in lout:\n",
    "            e4 = e4.replace(r, '')\n",
    "        e12 = f'[{e2}](#{e4})   '\n",
    "        e12 = '1. ' + e12\n",
    "        lnav.append(e12)\n",
    "#         print(e12)\n",
    "\n",
    "# l = lnav + l\n",
    "\n",
    "ltab = []\n",
    "lall = []\n",
    "k = 0\n",
    "for e in l:\n",
    "    match1 = re.search('\\[.*\\]\\(.*\\)', e)\n",
    "    match2 = re.search('^##?', e)\n",
    "    if match1 or match2 or k == len(l)-1:\n",
    "        if len(ltab)!=0:\n",
    "            ltab = translateListSmall(ltab)\n",
    "            ltab2 = []\n",
    "            ltab2.append('  ')\n",
    "#             ltab2.append('  ')\n",
    "            ltab2.append('__|__')\n",
    "            ltab2.append('--|--')\n",
    "#             print(e)\n",
    "            lall += ltab2 + ltab\n",
    "            lall.append('   ')\n",
    "            ltab = []\n",
    "        if k != len(l)-1:\n",
    "            lall.append(e)\n",
    "    else:\n",
    "#         e2 = translate(e)\n",
    "#         ltab.append(f'{e}|{e2}')\n",
    "        ltab.append(e)\n",
    "        \n",
    "    k+=1    \n",
    "\n",
    "lnav.append('   ')    \n",
    "lall = lnav + lall \n",
    "\n",
    "for e in lall:\n",
    "#     print(e)\n",
    "    pass\n",
    "s2 = '\\n'.join(lall)\n",
    "# print(s2)\n",
    "mWriteFile(\"x14b.txt\", s2)\n",
    "print(len(l), len(lall))"
   ]
  },
  {
   "cell_type": "code",
   "execution_count": null,
   "metadata": {},
   "outputs": [],
   "source": []
  }
 ],
 "metadata": {
  "kernelspec": {
   "display_name": "Python 3",
   "language": "python",
   "name": "python3"
  },
  "language_info": {
   "codemirror_mode": {
    "name": "ipython",
    "version": 3
   },
   "file_extension": ".py",
   "mimetype": "text/x-python",
   "name": "python",
   "nbconvert_exporter": "python",
   "pygments_lexer": "ipython3",
   "version": "3.7.8"
  }
 },
 "nbformat": 4,
 "nbformat_minor": 4
}
