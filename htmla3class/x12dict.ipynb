{
 "cells": [
  {
   "cell_type": "code",
   "execution_count": 1,
   "metadata": {},
   "outputs": [
    {
     "name": "stdout",
     "output_type": "stream",
     "text": [
      "15\n"
     ]
    }
   ],
   "source": [
    "import os\n",
    "import re\n",
    "\n",
    "def mMd(s):\n",
    "    '''\n",
    "    a*class.md => True\n",
    "    '''\n",
    "    match = re.search(r'^a\\w*.md$', s)\n",
    "    return True if match else False\n",
    "\n",
    "def listPreview(listList):\n",
    "    listFiles = list(filter(mMd, os.listdir()))\n",
    "\n",
    "    for i,v in enumerate(listFiles):\n",
    "        listList.append([])\n",
    "        with open(v, encoding=\"utf8\") as file:\n",
    "            for j,s in enumerate(file):\n",
    "                if j<5 and len(s.strip())>0:\n",
    "                    listList[i].append(s.strip())\n",
    "        listList[i].append(f'== === === {v} === === ==')\n",
    "\n",
    "def writeFile(listList, name):\n",
    "    list = []\n",
    "    for v in listList:\n",
    "        s = '\\n'.join(v)\n",
    "        list.append(s)\n",
    "    with open(name, \"w\", encoding = \"utf8\") as file:\n",
    "        file.write('\\n'.join(list))\n",
    "    \n",
    "listList = []    \n",
    "listPreview(listList)\n",
    "writeFile(listList, 'x12a.txt')\n",
    "print(len(listList))"
   ]
  },
  {
   "cell_type": "code",
   "execution_count": 2,
   "metadata": {},
   "outputs": [
    {
     "name": "stdout",
     "output_type": "stream",
     "text": [
      "['a0222class.md']\n"
     ]
    }
   ],
   "source": [
    "import re\n",
    "\n",
    "def findHeader(s, l):\n",
    "    '''\n",
    "    [1](2) => [1,2]\n",
    "    '''\n",
    "    match = re.search(r'\\[(.+)\\]\\((.+)\\)', s)\n",
    "    s2 = match[0] if match else ''\n",
    "#     print(s2)\n",
    "    if match:\n",
    "        l.append(match[1])\n",
    "        l.append(match[2])\n",
    "        return True\n",
    "    return False\n",
    "\n",
    "def findName(s, l):\n",
    "    '''\n",
    "    '== === === a0222class.md === === ==' => ['a0222class.md']\n",
    "    '''\n",
    "    match = re.search(r'a\\w*.md', s)\n",
    "    if match:\n",
    "        l.append(match[0])\n",
    "        return True\n",
    "    return False\n",
    "#     print(s)\n",
    "\n",
    "s = '[1](2)'\n",
    "listHeader = []\n",
    "findHeader(s, listHeader)\n",
    "# print(listHeader)\n",
    "s = '== === === a0222class.md === === =='\n",
    "listName = []\n",
    "findName(s, listName)\n",
    "print(listName)\n",
    "\n"
   ]
  },
  {
   "cell_type": "code",
   "execution_count": 4,
   "metadata": {},
   "outputs": [
    {
     "name": "stdout",
     "output_type": "stream",
     "text": [
      "15\n"
     ]
    }
   ],
   "source": [
    "def findHeader(s, l):\n",
    "    '''\n",
    "    [1](2) => [1,2]\n",
    "    '''\n",
    "    match = re.search(r'\\[(.+)\\]\\((.+)\\)', s)\n",
    "    s2 = match[0] if match else ''\n",
    "#     print(s2)\n",
    "    if match:\n",
    "        l.append(match[1])\n",
    "        l.append(match[2])\n",
    "#         print('aa', match[1])\n",
    "#         print('bb', match[2])\n",
    "        return True\n",
    "    return False\n",
    "\n",
    "def findName(s, l):\n",
    "    '''\n",
    "    '== === === a0222class.md === === ==' => ['a0222class.md']\n",
    "    '''\n",
    "    match = re.search(r'a\\w*.md', s)\n",
    "    if match:\n",
    "        l.append(match[0])\n",
    "        return True\n",
    "    return False\n",
    "\n",
    "def makeContent(list):\n",
    "    nameRes = ''\n",
    "    linkRes = ''\n",
    "    listName = []\n",
    "    listHeader = []\n",
    "    for v in list:\n",
    "        findName(v, listName)\n",
    "        findHeader(v, listHeader)\n",
    "#     print(listName)\n",
    "#     print(listHeader)\n",
    "    if len(listHeader)>2:\n",
    "        listHeader = listHeader[:2]\n",
    "    if len(listName) == 2 and listName[0] == listName[1]:\n",
    "        linkRes = listName[0]\n",
    "    else:\n",
    "        return ''\n",
    "    \n",
    "    if len(listHeader) == 2:\n",
    "        nameRes = listHeader[0]\n",
    "    else:\n",
    "        return ''\n",
    "    cwd = 'htmla3class/'\n",
    "    return f'[{nameRes}]({cwd}{linkRes})  '\n",
    "    \n",
    "s = makeContent(listList[0])\n",
    "# print(s)\n",
    "\n",
    "def makeContentFile(listList, filename):\n",
    "    print(len(listList)) \n",
    "    list4 = []\n",
    "    for v in listList:\n",
    "        s = makeContent(v)\n",
    "        list4.append(s)\n",
    "#     print(list4)\n",
    "    list2 = list(map(lambda x: f'1. {x}', list4))   \n",
    "    s = '\\n'.join(list2)\n",
    "#     print(s[:80])\n",
    "    with open(filename, \"w\", encoding=\"utf8\") as file:\n",
    "        file.write(s)\n",
    "    \n",
    "makeContentFile(listList,'x12c.txt')\n",
    "\n",
    "\n",
    " "
   ]
  },
  {
   "cell_type": "code",
   "execution_count": 58,
   "metadata": {},
   "outputs": [],
   "source": [
    "def testListList(listList):\n",
    "    '''\n",
    "    a0222class.md == a0222class.md\n",
    "    return 'a0222class.md != a0111class.md'\n",
    "    '''\n",
    "    for lv in listList:\n",
    "        la = []\n",
    "        for v in lv:\n",
    "            match = re.search(r'a\\w*.md', v)\n",
    "            la.append(match[0]) if match else ''\n",
    "        if len(la) == 2:\n",
    "            if la[0] != la[1]:\n",
    "                print(f'{la[0]}  {la[1]}')\n",
    "#         print(la)\n",
    "#         print(lv)\n",
    "#     print(listList[:2])\n",
    "\n",
    "testListList(listList)    "
   ]
  },
  {
   "cell_type": "markdown",
   "metadata": {},
   "source": []
  },
  {
   "cell_type": "code",
   "execution_count": 59,
   "metadata": {},
   "outputs": [
    {
     "name": "stdout",
     "output_type": "stream",
     "text": [
      "[1](2)\n"
     ]
    }
   ],
   "source": [
    "import re\n",
    "s = '''\n",
    "[2](1)\n",
    "'''\n",
    "def mChange(s):\n",
    "    '''\n",
    "    [2](1) => [1](2)\n",
    "    '''\n",
    "    match = re.search(r'\\[(.+)\\]',s)\n",
    "    a = match[1] if match else ''\n",
    "    match = re.search(r'\\((.+)\\)',s)\n",
    "    b = match[1] if match else ''\n",
    "    s2 = f'[{b}]({a})'\n",
    "    s2 = s2.strip()\n",
    "    return s2\n",
    "\n",
    "def mFoo(s):\n",
    "    list2 = list(filter(lambda x: len(x)>0, s.split('\\n')))\n",
    "    for v in list2:\n",
    "        print(mChange(v))\n",
    "\n",
    "s2 = mFoo(s)\n"
   ]
  },
  {
   "cell_type": "code",
   "execution_count": 46,
   "metadata": {},
   "outputs": [
    {
     "name": "stdout",
     "output_type": "stream",
     "text": [
      "0\n",
      "1\n",
      "2\n",
      "['0', '1', '2']\n"
     ]
    }
   ],
   "source": [
    "l = [f'{i}' for i in range(3)]\n",
    "s = '\\n'.join(l)\n",
    "print(s)\n",
    "l2 = s.split('\\n')\n",
    "print(l2)"
   ]
  },
  {
   "cell_type": "markdown",
   "metadata": {},
   "source": [
    "[book.pythontips.com](https://book.pythontips.com/en/latest/map_filter.html)"
   ]
  }
 ],
 "metadata": {
  "kernelspec": {
   "display_name": "Python 3",
   "language": "python",
   "name": "python3"
  },
  "language_info": {
   "codemirror_mode": {
    "name": "ipython",
    "version": 3
   },
   "file_extension": ".py",
   "mimetype": "text/x-python",
   "name": "python",
   "nbconvert_exporter": "python",
   "pygments_lexer": "ipython3",
   "version": "3.7.8"
  }
 },
 "nbformat": 4,
 "nbformat_minor": 4
}
